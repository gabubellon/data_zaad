{
 "cells": [
  {
   "cell_type": "code",
   "execution_count": 1,
   "id": "2e43a709-5033-499d-92a9-9629e13b9a7f",
   "metadata": {},
   "outputs": [],
   "source": [
    "import logging\n",
    "import os\n",
    "from datetime import timedelta\n",
    "from urllib.request import urlretrieve\n",
    "import pandas as pd"
   ]
  },
  {
   "cell_type": "code",
   "execution_count": 2,
   "id": "ec3d8cfe-bb4a-47f6-96ca-10064385a0a5",
   "metadata": {},
   "outputs": [],
   "source": [
    "sales_files = [\n",
    "    {\n",
    "        \"year\": 2017,\n",
    "        \"file_name\": \"sales_2017.xlsx\",\n",
    "        \"url\": \"https://github.com/gabubellon/data_zaad/raw/main/resources/Base 2017.xlsx\",\n",
    "    },\n",
    "    {\n",
    "        \"year\": 2018,\n",
    "        \"file_name\": \"sales_2018.xlsx\",\n",
    "        \"url\": \"https://github.com/gabubellon/data_zaad/raw/main/resources/Base_2018.xlsx\",\n",
    "    },\n",
    "    {\n",
    "        \"year\": 2019,\n",
    "        \"file_name\": \"sales_2019.xlsx\",\n",
    "        \"url\": \"https://github.com/gabubellon/data_zaad/raw/main/resources/Base_2019.xlsx\",\n",
    "    },\n",
    "]\n",
    " \n",
    "sales_folder = './sales_data'\n",
    "\n",
    "def donwload_sales_file(folder_name,file_name,url):\n",
    "\n",
    "    os.makedirs(name=folder_name,exist_ok=True)\n",
    "    saved_file =  urlretrieve(url, file_name)\n",
    "    logging.info(saved_file)"
   ]
  },
  {
   "cell_type": "code",
   "execution_count": 3,
   "id": "0f30b317-0ca8-4d9c-b2f6-335ed3dd571b",
   "metadata": {},
   "outputs": [],
   "source": [
    "for file in sales_files:\n",
    "\n",
    "    year = file.get('year')\n",
    "    url = file.get('url').replace(\" \", \"%20\")\n",
    "    file_name =  os.path.join(sales_folder, file.get('file_name'))\n",
    "\n",
    "    paramns = {'folder_name': sales_folder,\n",
    "               'file_name': file_name,\n",
    "               'url': url\n",
    "\n",
    "               }\n",
    "    donwload_sales_file(**paramns)"
   ]
  },
  {
   "cell_type": "code",
   "execution_count": 6,
   "id": "1137a107-bbe3-4b38-86ab-2e0b9d7a45fd",
   "metadata": {},
   "outputs": [],
   "source": [
    "df = pd.read_excel(file_name)  "
   ]
  },
  {
   "cell_type": "code",
   "execution_count": 8,
   "id": "9655a6b0-9c31-4c2a-afae-2e198e7834ed",
   "metadata": {},
   "outputs": [],
   "source": [
    "df['year'] = 2019"
   ]
  },
  {
   "cell_type": "code",
   "execution_count": 27,
   "id": "8fb4e097-27c6-434d-986d-3e2fb3dd8cc6",
   "metadata": {},
   "outputs": [
    {
     "data": {
      "text/plain": [
       "'./sales_data/*.csv'"
      ]
     },
     "execution_count": 27,
     "metadata": {},
     "output_type": "execute_result"
    }
   ],
   "source": [
    " os.path.join(sales_folder,'*.csv')"
   ]
  }
 ],
 "metadata": {
  "kernelspec": {
   "display_name": "Python 3 (ipykernel)",
   "language": "python",
   "name": "python3"
  },
  "language_info": {
   "codemirror_mode": {
    "name": "ipython",
    "version": 3
   },
   "file_extension": ".py",
   "mimetype": "text/x-python",
   "name": "python",
   "nbconvert_exporter": "python",
   "pygments_lexer": "ipython3",
   "version": "3.9.18"
  }
 },
 "nbformat": 4,
 "nbformat_minor": 5
}
